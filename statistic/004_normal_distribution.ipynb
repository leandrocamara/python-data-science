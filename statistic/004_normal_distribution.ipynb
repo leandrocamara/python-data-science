{
 "cells": [
  {
   "cell_type": "markdown",
   "metadata": {},
   "source": [
    "### Normal Distribution"
   ]
  },
  {
   "cell_type": "code",
   "execution_count": 2,
   "metadata": {},
   "outputs": [],
   "source": [
    "from scipy.stats import norm\n",
    "\n",
    "# ?norm.cdf # Calcula a probabilidade MENOR que X\n",
    "# ?norm.sf # Calcula a probabilidade MAIOR que X"
   ]
  },
  {
   "cell_type": "code",
   "execution_count": 3,
   "metadata": {},
   "outputs": [
    {
     "name": "stdout",
     "output_type": "stream",
     "text": [
      "0.15865525393145707\n"
     ]
    }
   ],
   "source": [
    "# Conjunto de objetos em uma cesta, a média é 8 e o desvio padrão é 2\n",
    "# Qual a probabilidade de tirar um objeto que o peso é menor que 6 quilos?\n",
    "m = 8\n",
    "sd = 2\n",
    "x = 6\n",
    "prob = norm.cdf(x, m, sd)\n",
    "print(prob)"
   ]
  },
  {
   "cell_type": "code",
   "execution_count": 4,
   "metadata": {},
   "outputs": [
    {
     "name": "stdout",
     "output_type": "stream",
     "text": [
      "0.8413447460685429\n"
     ]
    }
   ],
   "source": [
    "# Qual a probabilidade de tirar um objeto que o peso é maior que 6 quilos?\n",
    "x = 6\n",
    "prob = norm.sf(x, m, sd)\n",
    "print(prob)"
   ]
  },
  {
   "cell_type": "code",
   "execution_count": 5,
   "metadata": {},
   "outputs": [
    {
     "name": "stdout",
     "output_type": "stream",
     "text": [
      "0.31731050786291415\n"
     ]
    }
   ],
   "source": [
    "# Qual a probabilidade de tirar um objeto que o peso é menor 6 ou maior que 10 quilos?\n",
    "x1 = 6\n",
    "x2 = 10\n",
    "prob = norm.cdf(x1, m, sd) + norm.sf(x2, m, sd)\n",
    "print(prob)"
   ]
  },
  {
   "cell_type": "code",
   "execution_count": 7,
   "metadata": {},
   "outputs": [
    {
     "name": "stdout",
     "output_type": "stream",
     "text": [
      "0.3413447460685429\n"
     ]
    }
   ],
   "source": [
    "# Qual a probabilidade de tirar um objeto que o peso é menor que 10 e maior que 8 quilos?\n",
    "x1 = 10\n",
    "x2 = 8\n",
    "prob = norm.cdf(x1, m, sd) - norm.sf(x2, m, sd)\n",
    "print(prob)"
   ]
  },
  {
   "cell_type": "markdown",
   "metadata": {},
   "source": [
    "### Checking - Normal Distribution"
   ]
  },
  {
   "cell_type": "code",
   "execution_count": 9,
   "metadata": {},
   "outputs": [],
   "source": [
    "from scipy import stats\n",
    "from scipy.stats import norm\n",
    "import matplotlib.pyplot as plt\n",
    "\n",
    "# ?norm.rvs # Gera dados em uma distribuição normal"
   ]
  },
  {
   "cell_type": "code",
   "execution_count": 14,
   "metadata": {},
   "outputs": [
    {
     "data": {
      "text/plain": [
       "((array([-2.46203784, -2.12570747, -1.93122778, -1.79044653, -1.67819304,\n",
       "         -1.58381122, -1.50174123, -1.42869743, -1.36256869, -1.30191411,\n",
       "         -1.24570419, -1.19317644, -1.14374949, -1.09696931, -1.05247413,\n",
       "         -1.00997067, -0.96921765, -0.93001393, -0.89218993, -0.85560121,\n",
       "         -0.82012357, -0.78564937, -0.75208458, -0.71934648, -0.68736185,\n",
       "         -0.65606548, -0.62539893, -0.59530962, -0.56574992, -0.53667655,\n",
       "         -0.50804994, -0.47983378, -0.45199463, -0.42450149, -0.39732558,\n",
       "         -0.37044003, -0.34381966, -0.31744076, -0.29128096, -0.26531902,\n",
       "         -0.23953472, -0.21390872, -0.18842244, -0.16305799, -0.13779803,\n",
       "         -0.1126257 , -0.08752455, -0.06247843, -0.03747145, -0.01248789,\n",
       "          0.01248789,  0.03747145,  0.06247843,  0.08752455,  0.1126257 ,\n",
       "          0.13779803,  0.16305799,  0.18842244,  0.21390872,  0.23953472,\n",
       "          0.26531902,  0.29128096,  0.31744076,  0.34381966,  0.37044003,\n",
       "          0.39732558,  0.42450149,  0.45199463,  0.47983378,  0.50804994,\n",
       "          0.53667655,  0.56574992,  0.59530962,  0.62539893,  0.65606548,\n",
       "          0.68736185,  0.71934648,  0.75208458,  0.78564937,  0.82012357,\n",
       "          0.85560121,  0.89218993,  0.93001393,  0.96921765,  1.00997067,\n",
       "          1.05247413,  1.09696931,  1.14374949,  1.19317644,  1.24570419,\n",
       "          1.30191411,  1.36256869,  1.42869743,  1.50174123,  1.58381122,\n",
       "          1.67819304,  1.79044653,  1.93122778,  2.12570747,  2.46203784]),\n",
       "  array([-2.27839668, -1.92270346, -1.75910642, -1.72261103, -1.70030317,\n",
       "         -1.67373914, -1.66019203, -1.40687711, -1.36343483, -1.24649702,\n",
       "         -1.24306241, -1.23016072, -1.13054135, -1.08980103, -0.98204973,\n",
       "         -0.91823681, -0.87770144, -0.85435607, -0.84293444, -0.80928289,\n",
       "         -0.74152578, -0.68557949, -0.66818792, -0.66386332, -0.62212287,\n",
       "         -0.57439298, -0.51102658, -0.50422522, -0.47251145, -0.45238377,\n",
       "         -0.44694078, -0.42350233, -0.35139182, -0.29602205, -0.28125263,\n",
       "         -0.2392216 , -0.22645017, -0.22304809, -0.20867174, -0.20661699,\n",
       "         -0.18906961, -0.15898112, -0.14410528, -0.13544362, -0.09403998,\n",
       "         -0.08827008,  0.0229311 ,  0.0428157 ,  0.06098777,  0.06313224,\n",
       "          0.08150211,  0.08883463,  0.09751804,  0.11947537,  0.12010031,\n",
       "          0.13082928,  0.15995265,  0.19722098,  0.22955823,  0.24002877,\n",
       "          0.25830058,  0.33375291,  0.35669629,  0.45912394,  0.46809284,\n",
       "          0.47471954,  0.48643069,  0.53767129,  0.54032475,  0.57588973,\n",
       "          0.63251082,  0.66413849,  0.66582174,  0.66840392,  0.71822342,\n",
       "          0.72759779,  0.78660388,  0.80473894,  0.85242079,  0.87148139,\n",
       "          0.91947501,  0.95895184,  0.96968692,  1.00096054,  1.0248426 ,\n",
       "          1.06928824,  1.13007672,  1.15560024,  1.19273296,  1.2295289 ,\n",
       "          1.243207  ,  1.26895366,  1.43089287,  1.45371662,  1.52741059,\n",
       "          1.63309998,  1.64001572,  1.78342128,  1.79107838,  2.73258227])),\n",
       " (0.9738841885212601, 0.043725182315214564, 0.9971889642940073))"
      ]
     },
     "execution_count": 14,
     "metadata": {},
     "output_type": "execute_result"
    },
    {
     "data": {
      "image/png": "[encoded data removed]",
      "text/plain": [
       "<Figure size 432x288 with 1 Axes>"
      ]
     },
     "metadata": {
      "needs_background": "light"
     },
     "output_type": "display_data"
    }
   ],
   "source": [
    "data = norm.rvs(size = 100)\n",
    "stats.probplot(data, plot = plt)"
   ]
  },
  {
   "cell_type": "markdown",
   "metadata": {},
   "source": [
    "### Shapiro-Wilk Test"
   ]
  },
  {
   "cell_type": "code",
   "execution_count": 15,
   "metadata": {},
   "outputs": [
    {
     "data": {
      "text/plain": [
       "(0.9940559267997742, 0.9428339004516602)"
      ]
     },
     "execution_count": 15,
     "metadata": {},
     "output_type": "execute_result"
    }
   ],
   "source": [
    "stats.shapiro(data)"
   ]
  }
 ],
 "metadata": {
  "kernelspec": {
   "display_name": "Python 3",
   "language": "python",
   "name": "python3"
  },
  "language_info": {
   "codemirror_mode": {
    "name": "ipython",
    "version": 3
   },
   "file_extension": ".py",
   "mimetype": "text/x-python",
   "name": "python",
   "nbconvert_exporter": "python",
   "pygments_lexer": "ipython3",
   "version": "3.7.3"
  }
 },
 "nbformat": 4,
 "nbformat_minor": 2
}
