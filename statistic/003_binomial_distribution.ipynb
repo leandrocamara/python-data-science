{
 "cells": [
  {
   "cell_type": "markdown",
   "metadata": {},
   "source": [
    "### Binomial Distribution"
   ]
  },
  {
   "cell_type": "code",
   "execution_count": 2,
   "metadata": {},
   "outputs": [],
   "source": [
    "from scipy.stats import binom\n",
    "\n",
    "# ?binom.pmf # Calcula a probabilidade da distribuição binomial\n",
    "# ?binom.cdf # Calcula a probabilidade acumulativa"
   ]
  },
  {
   "cell_type": "code",
   "execution_count": 3,
   "metadata": {},
   "outputs": [
    {
     "name": "stdout",
     "output_type": "stream",
     "text": [
      "0.3125\n"
     ]
    }
   ],
   "source": [
    "# Jogar uma moeda 5 vezes, qual a probabilidade de dar cara 3 vezes?\n",
    "x = 3\n",
    "n = 5\n",
    "p = 0.5\n",
    "\n",
    "prob = binom.pmf(x, n, p)\n",
    "print(prob)"
   ]
  },
  {
   "cell_type": "code",
   "execution_count": 4,
   "metadata": {},
   "outputs": [
    {
     "name": "stdout",
     "output_type": "stream",
     "text": [
      "0.31640625000000006 0.4218750000000001 0.21093750000000006 0.046875000000000035 0.003906250000000001\n",
      "0.0625\n",
      "1.0\n"
     ]
    }
   ],
   "source": [
    "# Passar por 4 sinais de 4 tempos, qual a probalidade de pegar sinal verde\n",
    "# nenhuma, 1, 2, 3 ou 4 vezes seguida?\n",
    "n = 4\n",
    "p = 0.25\n",
    "\n",
    "prob_0 = binom.pmf(0, n, p)\n",
    "prob_1 = binom.pmf(1, n, p)\n",
    "prob_2 = binom.pmf(2, n, p)\n",
    "prob_3 = binom.pmf(3, n, p)\n",
    "prob_4 = binom.pmf(4, n, p)\n",
    "\n",
    "print(prob_0, prob_1, prob_2, prob_3, prob_4)\n",
    "\n",
    "# E se forem sinais de 2 tempos?\n",
    "p = 0.5\n",
    "print(binom.pmf(4, n, p))\n",
    "\n",
    "# Probabilidade acumulativa\n",
    "print(binom.cdf(4, n, 0.25))"
   ]
  },
  {
   "cell_type": "code",
   "execution_count": 7,
   "metadata": {},
   "outputs": [
    {
     "name": "stdout",
     "output_type": "stream",
     "text": [
      "0.0\n"
     ]
    }
   ],
   "source": [
    "# Concurso com 12 questões, qual a probabilidade de acertar 7 questões considerando\n",
    "# que cada questão tenha 4 alternativas?\n",
    "n = 4\n",
    "x = 7\n",
    "p = 0.25\n",
    "\n",
    "prob = binom.pmf(x, n, p)\n",
    "print(prob)"
   ]
  }
 ],
 "metadata": {
  "kernelspec": {
   "display_name": "Python 3",
   "language": "python",
   "name": "python3"
  },
  "language_info": {
   "codemirror_mode": {
    "name": "ipython",
    "version": 3
   },
   "file_extension": ".py",
   "mimetype": "text/x-python",
   "name": "python",
   "nbconvert_exporter": "python",
   "pygments_lexer": "ipython3",
   "version": "3.7.3"
  }
 },
 "nbformat": 4,
 "nbformat_minor": 2
}
