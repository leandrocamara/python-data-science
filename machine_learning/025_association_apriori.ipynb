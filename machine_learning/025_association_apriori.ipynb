{
 "cells": [
  {
   "cell_type": "markdown",
   "metadata": {
    "collapsed": true,
    "pycharm": {
     "name": "#%% md\n"
    }
   },
   "source": [
    "## Association Rules"
   ]
  },
  {
   "cell_type": "code",
   "execution_count": 19,
   "outputs": [],
   "source": [
    "import pandas as pd\n",
    "from apyori import apriori # pip install apyori"
   ],
   "metadata": {
    "collapsed": false,
    "pycharm": {
     "name": "#%%\n",
     "is_executing": false
    }
   }
  },
  {
   "cell_type": "markdown",
   "source": [
    "### Apriori"
   ],
   "metadata": {
    "collapsed": false
   }
  },
  {
   "cell_type": "code",
   "execution_count": 20,
   "outputs": [
    {
     "data": {
      "text/plain": "         0        1        2\n0  Cerveja    Pizza  Sorvete\n1    Pizza  Sorvete      NaN\n2  Cerveja    Pizza      NaN\n3  Cerveja    Pizza  Sorvete\n4  Cerveja    Pizza      NaN",
      "text/html": "<div>\n<style scoped>\n    .dataframe tbody tr th:only-of-type {\n        vertical-align: middle;\n    }\n\n    .dataframe tbody tr th {\n        vertical-align: top;\n    }\n\n    .dataframe thead th {\n        text-align: right;\n    }\n</style>\n<table border=\"1\" class=\"dataframe\">\n  <thead>\n    <tr style=\"text-align: right;\">\n      <th></th>\n      <th>0</th>\n      <th>1</th>\n      <th>2</th>\n    </tr>\n  </thead>\n  <tbody>\n    <tr>\n      <td>0</td>\n      <td>Cerveja</td>\n      <td>Pizza</td>\n      <td>Sorvete</td>\n    </tr>\n    <tr>\n      <td>1</td>\n      <td>Pizza</td>\n      <td>Sorvete</td>\n      <td>NaN</td>\n    </tr>\n    <tr>\n      <td>2</td>\n      <td>Cerveja</td>\n      <td>Pizza</td>\n      <td>NaN</td>\n    </tr>\n    <tr>\n      <td>3</td>\n      <td>Cerveja</td>\n      <td>Pizza</td>\n      <td>Sorvete</td>\n    </tr>\n    <tr>\n      <td>4</td>\n      <td>Cerveja</td>\n      <td>Pizza</td>\n      <td>NaN</td>\n    </tr>\n  </tbody>\n</table>\n</div>"
     },
     "metadata": {},
     "output_type": "execute_result",
     "execution_count": 20
    }
   ],
   "source": [
    "base = pd.read_csv('../datasets/transactions.txt', header=None)\n",
    "base.head()"
   ],
   "metadata": {
    "collapsed": false,
    "pycharm": {
     "name": "#%%\n",
     "is_executing": false
    }
   }
  },
  {
   "cell_type": "code",
   "execution_count": 21,
   "outputs": [
    {
     "name": "stdout",
     "text": [
      "[['Cerveja', 'Pizza', 'Sorvete'], ['Pizza', 'Sorvete', 'nan'], ['Cerveja', 'Pizza', 'nan'], ['Cerveja', 'Pizza', 'Sorvete'], ['Cerveja', 'Pizza', 'nan'], ['Pizza', 'nan', 'nan']]\n"
     ],
     "output_type": "stream"
    }
   ],
   "source": [
    "transactions = []\n",
    "\n",
    "for i in range(0, 6):\n",
    "    transactions.append([ str(base.values[i, j]) for j in range(0, 3) ])\n",
    "\n",
    "print(transactions)"
   ],
   "metadata": {
    "collapsed": false,
    "pycharm": {
     "name": "#%%\n",
     "is_executing": false
    }
   }
  },
  {
   "cell_type": "markdown",
   "source": [
    "#### Model"
   ],
   "metadata": {
    "collapsed": false,
    "pycharm": {
     "name": "#%% md\n",
     "is_executing": false
    }
   }
  },
  {
   "cell_type": "code",
   "execution_count": 34,
   "outputs": [],
   "source": [
    "rules = apriori(transactions, min_support=0.5, min_confidence=0.5)"
   ],
   "metadata": {
    "collapsed": false,
    "pycharm": {
     "name": "#%%\n",
     "is_executing": false
    }
   }
  },
  {
   "cell_type": "markdown",
   "source": [
    "##### Results Preview"
   ],
   "metadata": {
    "collapsed": false,
    "pycharm": {
     "name": "#%% md\n"
    }
   }
  },
  {
   "cell_type": "code",
   "execution_count": 35,
   "outputs": [
    {
     "name": "stdout",
     "text": [
      "[[frozenset({'Cerveja'}), 0.6666666666666666, [OrderedStatistic(items_base=frozenset(), items_add=frozenset({'Cerveja'}), confidence=0.6666666666666666, lift=1.0)]], [frozenset({'Pizza'}), 1.0, [OrderedStatistic(items_base=frozenset(), items_add=frozenset({'Pizza'}), confidence=1.0, lift=1.0)]], [frozenset({'Sorvete'}), 0.5, [OrderedStatistic(items_base=frozenset(), items_add=frozenset({'Sorvete'}), confidence=0.5, lift=1.0)]], [frozenset({'nan'}), 0.6666666666666666, [OrderedStatistic(items_base=frozenset(), items_add=frozenset({'nan'}), confidence=0.6666666666666666, lift=1.0)]], [frozenset({'Cerveja', 'Pizza'}), 0.6666666666666666, [OrderedStatistic(items_base=frozenset(), items_add=frozenset({'Cerveja', 'Pizza'}), confidence=0.6666666666666666, lift=1.0), OrderedStatistic(items_base=frozenset({'Cerveja'}), items_add=frozenset({'Pizza'}), confidence=1.0, lift=1.0), OrderedStatistic(items_base=frozenset({'Pizza'}), items_add=frozenset({'Cerveja'}), confidence=0.6666666666666666, lift=1.0)]], [frozenset({'Sorvete', 'Pizza'}), 0.5, [OrderedStatistic(items_base=frozenset(), items_add=frozenset({'Sorvete', 'Pizza'}), confidence=0.5, lift=1.0), OrderedStatistic(items_base=frozenset({'Pizza'}), items_add=frozenset({'Sorvete'}), confidence=0.5, lift=1.0), OrderedStatistic(items_base=frozenset({'Sorvete'}), items_add=frozenset({'Pizza'}), confidence=1.0, lift=1.0)]], [frozenset({'Pizza', 'nan'}), 0.6666666666666666, [OrderedStatistic(items_base=frozenset(), items_add=frozenset({'Pizza', 'nan'}), confidence=0.6666666666666666, lift=1.0), OrderedStatistic(items_base=frozenset({'Pizza'}), items_add=frozenset({'nan'}), confidence=0.6666666666666666, lift=1.0), OrderedStatistic(items_base=frozenset({'nan'}), items_add=frozenset({'Pizza'}), confidence=1.0, lift=1.0)]]]\n"
     ],
     "output_type": "stream"
    }
   ],
   "source": [
    "rules = list(rules)\n",
    "rules = [list(x) for x in rules]\n",
    "print(rules)"
   ],
   "metadata": {
    "collapsed": false,
    "pycharm": {
     "name": "#%%\n",
     "is_executing": false
    }
   }
  },
  {
   "cell_type": "code",
   "execution_count": 37,
   "outputs": [
    {
     "name": "stdout",
     "text": [
      "[[[frozenset(), frozenset({'Cerveja'}), 0.6666666666666666, 1.0]], [[frozenset(), frozenset({'Pizza'}), 1.0, 1.0]], [[frozenset(), frozenset({'Sorvete'}), 0.5, 1.0]], [[frozenset(), frozenset({'nan'}), 0.6666666666666666, 1.0]], [[frozenset(), frozenset({'Cerveja', 'Pizza'}), 0.6666666666666666, 1.0], [frozenset({'Cerveja'}), frozenset({'Pizza'}), 1.0, 1.0], [frozenset({'Pizza'}), frozenset({'Cerveja'}), 0.6666666666666666, 1.0]], [[frozenset(), frozenset({'Sorvete', 'Pizza'}), 0.5, 1.0], [frozenset({'Pizza'}), frozenset({'Sorvete'}), 0.5, 1.0], [frozenset({'Sorvete'}), frozenset({'Pizza'}), 1.0, 1.0]], [[frozenset(), frozenset({'Pizza', 'nan'}), 0.6666666666666666, 1.0], [frozenset({'Pizza'}), frozenset({'nan'}), 0.6666666666666666, 1.0], [frozenset({'nan'}), frozenset({'Pizza'}), 1.0, 1.0]]]\n"
     ],
     "output_type": "stream"
    }
   ],
   "source": [
    "results = []\n",
    "for j in range(0, 7):\n",
    "    results.append([ list(x) for x in rules[j][2] ])\n",
    "print(results)\n"
   ],
   "metadata": {
    "collapsed": false,
    "pycharm": {
     "name": "#%%\n",
     "is_executing": false
    }
   }
  }
 ],
 "metadata": {
  "kernelspec": {
   "display_name": "Python 3",
   "language": "python",
   "name": "python3"
  },
  "language_info": {
   "codemirror_mode": {
    "name": "ipython",
    "version": 2
   },
   "file_extension": ".py",
   "mimetype": "text/x-python",
   "name": "python",
   "nbconvert_exporter": "python",
   "pygments_lexer": "ipython2",
   "version": "2.7.6"
  },
  "pycharm": {
   "stem_cell": {
    "cell_type": "raw",
    "source": [],
    "metadata": {
     "collapsed": false
    }
   }
  }
 },
 "nbformat": 4,
 "nbformat_minor": 0
}